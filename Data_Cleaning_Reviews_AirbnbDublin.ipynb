{
  "cells": [
    {
      "cell_type": "markdown",
      "metadata": {
        "id": "view-in-github",
        "colab_type": "text"
      },
      "source": [
        "<a href=\"https://colab.research.google.com/github/singh-prishita/MLFinalAssignment/blob/main/Data_Cleaning_Reviews_AirbnbDublin.ipynb\" target=\"_parent\"><img src=\"https://colab.research.google.com/assets/colab-badge.svg\" alt=\"Open In Colab\"/></a>"
      ]
    },
    {
      "cell_type": "code",
      "execution_count": null,
      "metadata": {
        "colab": {
          "base_uri": "https://localhost:8080/"
        },
        "id": "ynonGZQkIlxE",
        "outputId": "c4f52765-e592-4d44-94c8-a88d55970bb1"
      },
      "outputs": [
        {
          "output_type": "stream",
          "name": "stdout",
          "text": [
            "Drive already mounted at /content/drive; to attempt to forcibly remount, call drive.mount(\"/content/drive\", force_remount=True).\n"
          ]
        }
      ],
      "source": [
        "from google.colab import drive\n",
        "drive.mount('/content/drive')"
      ],
      "id": "ynonGZQkIlxE"
    },
    {
      "cell_type": "code",
      "execution_count": null,
      "metadata": {
        "colab": {
          "base_uri": "https://localhost:8080/"
        },
        "id": "13ec69d1",
        "outputId": "93199334-cdcc-4c46-f695-44fddb04eb0f"
      },
      "outputs": [
        {
          "output_type": "stream",
          "name": "stdout",
          "text": [
            "Looking in indexes: https://pypi.org/simple, https://us-python.pkg.dev/colab-wheels/public/simple/\n",
            "Requirement already satisfied: langdetect in /usr/local/lib/python3.8/dist-packages (1.0.9)\n",
            "Requirement already satisfied: six in /usr/local/lib/python3.8/dist-packages (from langdetect) (1.15.0)\n"
          ]
        }
      ],
      "source": [
        "pip install langdetect"
      ],
      "id": "13ec69d1"
    },
    {
      "cell_type": "code",
      "execution_count": null,
      "metadata": {
        "colab": {
          "base_uri": "https://localhost:8080/"
        },
        "id": "15edcc5b",
        "outputId": "594b40d8-881f-42b6-aa3f-6fae6c61c142"
      },
      "outputs": [
        {
          "output_type": "stream",
          "name": "stdout",
          "text": [
            "Looking in indexes: https://pypi.org/simple, https://us-python.pkg.dev/colab-wheels/public/simple/\n",
            "Requirement already satisfied: deep_translator in /usr/local/lib/python3.8/dist-packages (1.9.1)\n",
            "Requirement already satisfied: beautifulsoup4<5.0.0,>=4.9.1 in /usr/local/lib/python3.8/dist-packages (from deep_translator) (4.11.1)\n",
            "Requirement already satisfied: requests<3.0.0,>=2.23.0 in /usr/local/lib/python3.8/dist-packages (from deep_translator) (2.25.1)\n",
            "Requirement already satisfied: soupsieve>1.2 in /usr/local/lib/python3.8/dist-packages (from beautifulsoup4<5.0.0,>=4.9.1->deep_translator) (2.3.2.post1)\n",
            "Requirement already satisfied: chardet<5,>=3.0.2 in /usr/local/lib/python3.8/dist-packages (from requests<3.0.0,>=2.23.0->deep_translator) (4.0.0)\n",
            "Requirement already satisfied: idna<3,>=2.5 in /usr/local/lib/python3.8/dist-packages (from requests<3.0.0,>=2.23.0->deep_translator) (2.10)\n",
            "Requirement already satisfied: urllib3<1.27,>=1.21.1 in /usr/local/lib/python3.8/dist-packages (from requests<3.0.0,>=2.23.0->deep_translator) (1.24.3)\n",
            "Requirement already satisfied: certifi>=2017.4.17 in /usr/local/lib/python3.8/dist-packages (from requests<3.0.0,>=2.23.0->deep_translator) (2022.12.7)\n"
          ]
        }
      ],
      "source": [
        "pip install deep_translator"
      ],
      "id": "15edcc5b"
    },
    {
      "cell_type": "code",
      "execution_count": null,
      "metadata": {
        "colab": {
          "base_uri": "https://localhost:8080/"
        },
        "id": "d637bb6a",
        "outputId": "c681b102-d348-4201-b2fa-94949e97cfdf"
      },
      "outputs": [
        {
          "output_type": "stream",
          "name": "stdout",
          "text": [
            "Looking in indexes: https://pypi.org/simple, https://us-python.pkg.dev/colab-wheels/public/simple/\n",
            "Requirement already satisfied: textblob in /usr/local/lib/python3.8/dist-packages (0.15.3)\n",
            "Requirement already satisfied: nltk>=3.1 in /usr/local/lib/python3.8/dist-packages (from textblob) (3.7)\n",
            "Requirement already satisfied: click in /usr/local/lib/python3.8/dist-packages (from nltk>=3.1->textblob) (7.1.2)\n",
            "Requirement already satisfied: regex>=2021.8.3 in /usr/local/lib/python3.8/dist-packages (from nltk>=3.1->textblob) (2022.6.2)\n",
            "Requirement already satisfied: joblib in /usr/local/lib/python3.8/dist-packages (from nltk>=3.1->textblob) (1.2.0)\n",
            "Requirement already satisfied: tqdm in /usr/local/lib/python3.8/dist-packages (from nltk>=3.1->textblob) (4.64.1)\n"
          ]
        }
      ],
      "source": [
        "pip install textblob"
      ],
      "id": "d637bb6a"
    },
    {
      "cell_type": "code",
      "execution_count": null,
      "metadata": {
        "id": "7c803da5-7462-47d6-bd15-bab4ebfc1589"
      },
      "outputs": [],
      "source": [
        "import numpy as np\n",
        "import pandas as pd\n",
        "import matplotlib.pyplot as plt\n",
        "import re\n",
        "import string\n",
        "\n",
        "from langdetect import detect\n",
        "from deep_translator import GoogleTranslator\n",
        "\n",
        "from tqdm import tqdm\n",
        "tqdm.pandas()\n",
        "\n",
        "from textblob import TextBlob\n",
        "\n",
        "import seaborn as sns\n",
        "sns.set_theme(style=\"whitegrid\")\n",
        "\n",
        "import pickle \n",
        "\n",
        "import importlib\n",
        "\n",
        "import nltk\n",
        "from nltk.stem import WordNetLemmatizer\n",
        "\n",
        "from nltk.stem.porter import PorterStemmer\n",
        "porter_stemmer = PorterStemmer()\n",
        "\n",
        "from nltk.tokenize import word_tokenize\n",
        "\n",
        "import itertools"
      ],
      "id": "7c803da5-7462-47d6-bd15-bab4ebfc1589"
    },
    {
      "cell_type": "code",
      "execution_count": null,
      "metadata": {
        "id": "6f030029-f541-4414-872c-ed1552a3480d"
      },
      "outputs": [],
      "source": [
        "df_review = pd.read_csv('/content/drive/MyDrive/Colab Notebooks/reviews.csv')"
      ],
      "id": "6f030029-f541-4414-872c-ed1552a3480d"
    },
    {
      "cell_type": "code",
      "execution_count": null,
      "metadata": {
        "colab": {
          "base_uri": "https://localhost:8080/",
          "height": 206
        },
        "id": "75b7256a-4109-4625-96ea-c51c56042088",
        "outputId": "9e0a35b4-9b26-47dc-96f0-ea575a975fce"
      },
      "outputs": [
        {
          "output_type": "execute_result",
          "data": {
            "text/plain": [
              "   listing_id      id        date  reviewer_id         reviewer_name  \\\n",
              "0       44077  203703  2011-03-20       393348             Christian   \n",
              "1       44077  211369  2011-03-28       444004               Solidea   \n",
              "2       44077  234215  2011-04-21       465058  Michael And Isabelle   \n",
              "3       44077  261843  2011-05-13       490005                Weston   \n",
              "4       44077  268148  2011-05-17       520460               Barbara   \n",
              "\n",
              "                                            comments  \n",
              "0  We enjoyed our stay very much. The room was co...  \n",
              "1  We have been here 4 nights. Stay in a home is ...  \n",
              "2  Teresa and Hughie were great hosts. They were ...  \n",
              "3  No surprises, was as described.  Very gracious...  \n",
              "4  Teresa was a lovely hostess, and we had a deli...  "
            ],
            "text/html": [
              "\n",
              "  <div id=\"df-9d646365-b2ef-437f-ab8d-fdf7afd226b5\">\n",
              "    <div class=\"colab-df-container\">\n",
              "      <div>\n",
              "<style scoped>\n",
              "    .dataframe tbody tr th:only-of-type {\n",
              "        vertical-align: middle;\n",
              "    }\n",
              "\n",
              "    .dataframe tbody tr th {\n",
              "        vertical-align: top;\n",
              "    }\n",
              "\n",
              "    .dataframe thead th {\n",
              "        text-align: right;\n",
              "    }\n",
              "</style>\n",
              "<table border=\"1\" class=\"dataframe\">\n",
              "  <thead>\n",
              "    <tr style=\"text-align: right;\">\n",
              "      <th></th>\n",
              "      <th>listing_id</th>\n",
              "      <th>id</th>\n",
              "      <th>date</th>\n",
              "      <th>reviewer_id</th>\n",
              "      <th>reviewer_name</th>\n",
              "      <th>comments</th>\n",
              "    </tr>\n",
              "  </thead>\n",
              "  <tbody>\n",
              "    <tr>\n",
              "      <th>0</th>\n",
              "      <td>44077</td>\n",
              "      <td>203703</td>\n",
              "      <td>2011-03-20</td>\n",
              "      <td>393348</td>\n",
              "      <td>Christian</td>\n",
              "      <td>We enjoyed our stay very much. The room was co...</td>\n",
              "    </tr>\n",
              "    <tr>\n",
              "      <th>1</th>\n",
              "      <td>44077</td>\n",
              "      <td>211369</td>\n",
              "      <td>2011-03-28</td>\n",
              "      <td>444004</td>\n",
              "      <td>Solidea</td>\n",
              "      <td>We have been here 4 nights. Stay in a home is ...</td>\n",
              "    </tr>\n",
              "    <tr>\n",
              "      <th>2</th>\n",
              "      <td>44077</td>\n",
              "      <td>234215</td>\n",
              "      <td>2011-04-21</td>\n",
              "      <td>465058</td>\n",
              "      <td>Michael And Isabelle</td>\n",
              "      <td>Teresa and Hughie were great hosts. They were ...</td>\n",
              "    </tr>\n",
              "    <tr>\n",
              "      <th>3</th>\n",
              "      <td>44077</td>\n",
              "      <td>261843</td>\n",
              "      <td>2011-05-13</td>\n",
              "      <td>490005</td>\n",
              "      <td>Weston</td>\n",
              "      <td>No surprises, was as described.  Very gracious...</td>\n",
              "    </tr>\n",
              "    <tr>\n",
              "      <th>4</th>\n",
              "      <td>44077</td>\n",
              "      <td>268148</td>\n",
              "      <td>2011-05-17</td>\n",
              "      <td>520460</td>\n",
              "      <td>Barbara</td>\n",
              "      <td>Teresa was a lovely hostess, and we had a deli...</td>\n",
              "    </tr>\n",
              "  </tbody>\n",
              "</table>\n",
              "</div>\n",
              "      <button class=\"colab-df-convert\" onclick=\"convertToInteractive('df-9d646365-b2ef-437f-ab8d-fdf7afd226b5')\"\n",
              "              title=\"Convert this dataframe to an interactive table.\"\n",
              "              style=\"display:none;\">\n",
              "        \n",
              "  <svg xmlns=\"http://www.w3.org/2000/svg\" height=\"24px\"viewBox=\"0 0 24 24\"\n",
              "       width=\"24px\">\n",
              "    <path d=\"M0 0h24v24H0V0z\" fill=\"none\"/>\n",
              "    <path d=\"M18.56 5.44l.94 2.06.94-2.06 2.06-.94-2.06-.94-.94-2.06-.94 2.06-2.06.94zm-11 1L8.5 8.5l.94-2.06 2.06-.94-2.06-.94L8.5 2.5l-.94 2.06-2.06.94zm10 10l.94 2.06.94-2.06 2.06-.94-2.06-.94-.94-2.06-.94 2.06-2.06.94z\"/><path d=\"M17.41 7.96l-1.37-1.37c-.4-.4-.92-.59-1.43-.59-.52 0-1.04.2-1.43.59L10.3 9.45l-7.72 7.72c-.78.78-.78 2.05 0 2.83L4 21.41c.39.39.9.59 1.41.59.51 0 1.02-.2 1.41-.59l7.78-7.78 2.81-2.81c.8-.78.8-2.07 0-2.86zM5.41 20L4 18.59l7.72-7.72 1.47 1.35L5.41 20z\"/>\n",
              "  </svg>\n",
              "      </button>\n",
              "      \n",
              "  <style>\n",
              "    .colab-df-container {\n",
              "      display:flex;\n",
              "      flex-wrap:wrap;\n",
              "      gap: 12px;\n",
              "    }\n",
              "\n",
              "    .colab-df-convert {\n",
              "      background-color: #E8F0FE;\n",
              "      border: none;\n",
              "      border-radius: 50%;\n",
              "      cursor: pointer;\n",
              "      display: none;\n",
              "      fill: #1967D2;\n",
              "      height: 32px;\n",
              "      padding: 0 0 0 0;\n",
              "      width: 32px;\n",
              "    }\n",
              "\n",
              "    .colab-df-convert:hover {\n",
              "      background-color: #E2EBFA;\n",
              "      box-shadow: 0px 1px 2px rgba(60, 64, 67, 0.3), 0px 1px 3px 1px rgba(60, 64, 67, 0.15);\n",
              "      fill: #174EA6;\n",
              "    }\n",
              "\n",
              "    [theme=dark] .colab-df-convert {\n",
              "      background-color: #3B4455;\n",
              "      fill: #D2E3FC;\n",
              "    }\n",
              "\n",
              "    [theme=dark] .colab-df-convert:hover {\n",
              "      background-color: #434B5C;\n",
              "      box-shadow: 0px 1px 3px 1px rgba(0, 0, 0, 0.15);\n",
              "      filter: drop-shadow(0px 1px 2px rgba(0, 0, 0, 0.3));\n",
              "      fill: #FFFFFF;\n",
              "    }\n",
              "  </style>\n",
              "\n",
              "      <script>\n",
              "        const buttonEl =\n",
              "          document.querySelector('#df-9d646365-b2ef-437f-ab8d-fdf7afd226b5 button.colab-df-convert');\n",
              "        buttonEl.style.display =\n",
              "          google.colab.kernel.accessAllowed ? 'block' : 'none';\n",
              "\n",
              "        async function convertToInteractive(key) {\n",
              "          const element = document.querySelector('#df-9d646365-b2ef-437f-ab8d-fdf7afd226b5');\n",
              "          const dataTable =\n",
              "            await google.colab.kernel.invokeFunction('convertToInteractive',\n",
              "                                                     [key], {});\n",
              "          if (!dataTable) return;\n",
              "\n",
              "          const docLinkHtml = 'Like what you see? Visit the ' +\n",
              "            '<a target=\"_blank\" href=https://colab.research.google.com/notebooks/data_table.ipynb>data table notebook</a>'\n",
              "            + ' to learn more about interactive tables.';\n",
              "          element.innerHTML = '';\n",
              "          dataTable['output_type'] = 'display_data';\n",
              "          await google.colab.output.renderOutput(dataTable, element);\n",
              "          const docLink = document.createElement('div');\n",
              "          docLink.innerHTML = docLinkHtml;\n",
              "          element.appendChild(docLink);\n",
              "        }\n",
              "      </script>\n",
              "    </div>\n",
              "  </div>\n",
              "  "
            ]
          },
          "metadata": {},
          "execution_count": 7
        }
      ],
      "source": [
        "df_review.head()"
      ],
      "id": "75b7256a-4109-4625-96ea-c51c56042088"
    },
    {
      "cell_type": "code",
      "execution_count": null,
      "metadata": {
        "colab": {
          "base_uri": "https://localhost:8080/"
        },
        "id": "251ba34d-028e-4183-8967-649c06e9073d",
        "outputId": "db491d96-2757-430a-ea7c-f0400fdf0214"
      },
      "outputs": [
        {
          "output_type": "stream",
          "name": "stdout",
          "text": [
            "Dataset has 243183 reviews per 6209 listings.\n"
          ]
        }
      ],
      "source": [
        "print(f'Dataset has {df_review.shape[0]} reviews per {df_review.listing_id.nunique()} listings.')"
      ],
      "id": "251ba34d-028e-4183-8967-649c06e9073d"
    },
    {
      "cell_type": "code",
      "execution_count": null,
      "metadata": {
        "colab": {
          "base_uri": "https://localhost:8080/"
        },
        "id": "ee6c45c8-30af-4dd9-93dd-13bc9b4996a1",
        "outputId": "40f2e9be-33a6-452e-f826-10ef416202d5"
      },
      "outputs": [
        {
          "output_type": "execute_result",
          "data": {
            "text/plain": [
              "listing_id        0\n",
              "id                0\n",
              "date              0\n",
              "reviewer_id       0\n",
              "reviewer_name     0\n",
              "comments         18\n",
              "dtype: int64"
            ]
          },
          "metadata": {},
          "execution_count": 9
        }
      ],
      "source": [
        "# Checking for all the missing or null values\n",
        "\n",
        "df_review.isnull().sum()"
      ],
      "id": "ee6c45c8-30af-4dd9-93dd-13bc9b4996a1"
    },
    {
      "cell_type": "code",
      "execution_count": null,
      "metadata": {
        "colab": {
          "base_uri": "https://localhost:8080/"
        },
        "id": "eebd10c8-b3da-40bb-ac0d-2e534209169d",
        "outputId": "85c875bd-442f-4c8f-ec45-4f594e83bac4"
      },
      "outputs": [
        {
          "output_type": "execute_result",
          "data": {
            "text/plain": [
              "(243165, 6)"
            ]
          },
          "metadata": {},
          "execution_count": 10
        }
      ],
      "source": [
        "# Dropping out the rows with missing values\n",
        "\n",
        "df_review.dropna(inplace=True)\n",
        "df_review.shape"
      ],
      "id": "eebd10c8-b3da-40bb-ac0d-2e534209169d"
    },
    {
      "cell_type": "code",
      "execution_count": null,
      "metadata": {
        "id": "ab105d1e-fd63-44c1-8406-e7e6f5ab7487"
      },
      "outputs": [],
      "source": [
        "# Calculating the length of the comments and adding a new column\n",
        "\n",
        "df_review['length_comments'] = df_review['comments'].apply(lambda x: len(x.split()))"
      ],
      "id": "ab105d1e-fd63-44c1-8406-e7e6f5ab7487"
    },
    {
      "cell_type": "code",
      "execution_count": null,
      "metadata": {
        "colab": {
          "base_uri": "https://localhost:8080/"
        },
        "id": "33966ed3-eaa8-48d3-8457-6ce71debfd6f",
        "outputId": "23758f85-e2f1-47a6-8d50-74ccc87ecd52"
      },
      "outputs": [
        {
          "output_type": "execute_result",
          "data": {
            "text/plain": [
              "1002"
            ]
          },
          "metadata": {},
          "execution_count": 12
        }
      ],
      "source": [
        "df_review['length_comments'].max()"
      ],
      "id": "33966ed3-eaa8-48d3-8457-6ce71debfd6f"
    },
    {
      "cell_type": "code",
      "execution_count": null,
      "metadata": {
        "colab": {
          "base_uri": "https://localhost:8080/"
        },
        "id": "50d0ba4b-3dd8-40f7-ab77-b35f5084fd65",
        "outputId": "bf9e2e4c-05a2-48b1-8d76-6ab5df515556"
      },
      "outputs": [
        {
          "output_type": "execute_result",
          "data": {
            "text/plain": [
              "1"
            ]
          },
          "metadata": {},
          "execution_count": 13
        }
      ],
      "source": [
        "df_review['length_comments'].min()"
      ],
      "id": "50d0ba4b-3dd8-40f7-ab77-b35f5084fd65"
    },
    {
      "cell_type": "code",
      "execution_count": null,
      "metadata": {
        "colab": {
          "base_uri": "https://localhost:8080/"
        },
        "id": "bf484def-a8f1-40df-b0b0-e2930b1335ed",
        "outputId": "fde284f0-bb15-4a06-a5fd-e60e297123f4"
      },
      "outputs": [
        {
          "output_type": "execute_result",
          "data": {
            "text/plain": [
              "0    we enjoyed our stay very much. the room was co...\n",
              "1    we have been here 4 nights. stay in a home is ...\n",
              "2    teresa and hughie were great hosts. they were ...\n",
              "3    no surprises, was as described.  very gracious...\n",
              "4    teresa was a lovely hostess, and we had a deli...\n",
              "Name: comments, dtype: object"
            ]
          },
          "metadata": {},
          "execution_count": 14
        }
      ],
      "source": [
        "# Lowercasing all the comments\n",
        "\n",
        "df_review['comments'] = df_review['comments'].str.lower()\n",
        "df_review['comments'].head()"
      ],
      "id": "bf484def-a8f1-40df-b0b0-e2930b1335ed"
    },
    {
      "cell_type": "code",
      "execution_count": null,
      "metadata": {
        "colab": {
          "base_uri": "https://localhost:8080/"
        },
        "id": "fda282c0-7093-41cb-8d7e-ab42404a1676",
        "outputId": "0b6c511e-9643-4f74-db79-8995bb819dec"
      },
      "outputs": [
        {
          "output_type": "execute_result",
          "data": {
            "text/plain": [
              "(241287, 7)"
            ]
          },
          "metadata": {},
          "execution_count": 15
        }
      ],
      "source": [
        "# Dropping the  automatic comments where the host cancelled reservation\n",
        "\n",
        "index_canceled = df_review[df_review[\"comments\"].str.contains(\"canceled\", case=False, na=False)].index\n",
        "df_review.drop(index_canceled, inplace=True)\n",
        "df_review.shape"
      ],
      "id": "fda282c0-7093-41cb-8d7e-ab42404a1676"
    },
    {
      "cell_type": "code",
      "execution_count": null,
      "metadata": {
        "colab": {
          "base_uri": "https://localhost:8080/"
        },
        "id": "6ce2753a-1e01-415d-b401-d7618003e76c",
        "outputId": "1150a74f-f989-4e57-e155-cf4b5301718a"
      },
      "outputs": [
        {
          "output_type": "execute_result",
          "data": {
            "text/plain": [
              "0    we enjoyed our stay very much the room was com...\n",
              "1    we have been here 4 nights stay in a home is t...\n",
              "2    teresa and hughie were great hosts they were v...\n",
              "3    no surprises was as described  very gracious h...\n",
              "4    teresa was a lovely hostess and we had a delig...\n",
              "Name: comments, dtype: object"
            ]
          },
          "metadata": {},
          "execution_count": 16
        }
      ],
      "source": [
        "# Removing all the punctuation\n",
        "\n",
        "df_review['comments'] = df_review['comments'].str.replace('[^\\w\\s]','',regex=True)\n",
        "df_review['comments'].head()"
      ],
      "id": "6ce2753a-1e01-415d-b401-d7618003e76c"
    },
    {
      "cell_type": "code",
      "execution_count": null,
      "metadata": {
        "id": "da609ff5-5003-460e-aca7-accffc6d6cb2"
      },
      "outputs": [],
      "source": [
        "# Removing all emojis\n",
        "\n",
        "def removing_emoji(text):\n",
        "    emoji_patterns = re.compile(\"[\"\n",
        "                           u\"\\U0001F600-\\U0001F64F\"  # emoticons\n",
        "                           u\"\\U0001F300-\\U0001F5FF\"  # symbols & pictographs\n",
        "                           u\"\\U0001F680-\\U0001F6FF\"  # transport & map symbols\n",
        "                           u\"\\U0001F1E0-\\U0001F1FF\"  # flags \n",
        "                           u\"\\U00002702-\\U000027B0\"\n",
        "                           u\"\\U000024C2-\\U0001F251\"\n",
        "                           \"]+\", flags=re.UNICODE)\n",
        "    return emoji_patterns.sub(r'', text)\n",
        "\n",
        "df_review['comments'] = df_review['comments'].apply(lambda x: removing_emoji(x))"
      ],
      "id": "da609ff5-5003-460e-aca7-accffc6d6cb2"
    },
    {
      "cell_type": "code",
      "execution_count": null,
      "metadata": {
        "id": "de073f37-e282-4cce-82a3-2699b084917e"
      },
      "outputs": [],
      "source": [
        "# Removing the numbers\n",
        "\n",
        "df_review['comments'] = df_review['comments'].str.replace(r'[0-9]','',regex=True)"
      ],
      "id": "de073f37-e282-4cce-82a3-2699b084917e"
    },
    {
      "cell_type": "code",
      "execution_count": null,
      "metadata": {
        "id": "de180181-7efa-44a0-8285-9d2fe7ae10b3"
      },
      "outputs": [],
      "source": [
        "# Replacing the rows with the empty string with none value and dropping them\n",
        "\n",
        "df_review['comments'] = df_review.comments.replace(r'^\\s*$','none', regex=True)\n",
        "df_review.drop(df_review[df_review['comments']=='none'].index, inplace = True)"
      ],
      "id": "de180181-7efa-44a0-8285-9d2fe7ae10b3"
    },
    {
      "cell_type": "code",
      "execution_count": null,
      "metadata": {
        "colab": {
          "base_uri": "https://localhost:8080/"
        },
        "id": "456f02a6-4beb-40c8-bee5-ba38f80c616d",
        "outputId": "18dfa742-a337-42b1-b43c-9a75230d8ad2"
      },
      "outputs": [
        {
          "output_type": "execute_result",
          "data": {
            "text/plain": [
              "0         we enjoyed our stay very much the room was com...\n",
              "1         we have been here  nights stay in a home is th...\n",
              "2         teresa and hughie were great hosts they were v...\n",
              "3         no surprises was as described  very gracious h...\n",
              "4         teresa was a lovely hostess and we had a delig...\n",
              "                                ...                        \n",
              "243178               ottima posizione gentilezza e cortesia\n",
              "243179    jenny was able to get us in last minute and ex...\n",
              "243180    very spacious owners communicative only issue ...\n",
              "243181    what a great host couple and great spot super ...\n",
              "243182    ana is a lovey host brthere was an issue at  a...\n",
              "Name: comments, Length: 234342, dtype: object"
            ]
          },
          "metadata": {},
          "execution_count": 20
        }
      ],
      "source": [
        "# Removing the duplicate values if there are any\n",
        "\n",
        "df_review.comments.drop_duplicates()"
      ],
      "id": "456f02a6-4beb-40c8-bee5-ba38f80c616d"
    },
    {
      "cell_type": "code",
      "execution_count": null,
      "metadata": {
        "id": "14c6d0c9-ec58-4ef8-b7aa-ed38b21ce755"
      },
      "outputs": [],
      "source": [
        "# Identifying the language of comments\n",
        "\n",
        "def safe_detect(x):\n",
        "    ''' Function detecting language.\n",
        "    If a language is not identified,\n",
        "    it returns empty.\n",
        "    '''\n",
        "    try:\n",
        "        lan = detect(x)\n",
        "    except:\n",
        "        lan = \"\"\n",
        "    return lan"
      ],
      "id": "14c6d0c9-ec58-4ef8-b7aa-ed38b21ce755"
    },
    {
      "cell_type": "code",
      "execution_count": null,
      "metadata": {
        "id": "4f31376c-a8fc-498f-a9a4-93a5521823f3"
      },
      "outputs": [],
      "source": [
        "# Creating a new column 'language'\n",
        "# NB: safe_detect takes a long time to run\n",
        "\n",
        "df_review['language'] = df_review['comments'].apply(safe_detect)"
      ],
      "id": "4f31376c-a8fc-498f-a9a4-93a5521823f3"
    },
    {
      "cell_type": "code",
      "execution_count": null,
      "metadata": {
        "colab": {
          "base_uri": "https://localhost:8080/",
          "height": 502
        },
        "id": "aa88bfd7-ea19-4db1-a574-060d4743a80b",
        "outputId": "2abd793a-e432-42a6-d563-f1d4872577ee"
      },
      "outputs": [
        {
          "output_type": "display_data",
          "data": {
            "text/plain": [
              "<Figure size 576x576 with 1 Axes>"
            ],
            "image/png": "[encoded data removed]"
          },
          "metadata": {}
        }
      ],
      "source": [
        "f, ax = plt.subplots(figsize=(8, 8))\n",
        "sns.set_color_codes(\"pastel\")\n",
        "sns.countplot(y=\"language\", data=df_review, order = df_review['language'].value_counts(normalize=True).index,\n",
        "              label=\"Total\", color=\"pink\")\n",
        "plt.show()"
      ],
      "id": "aa88bfd7-ea19-4db1-a574-060d4743a80b"
    },
    {
      "cell_type": "code",
      "execution_count": null,
      "metadata": {
        "id": "0f56336f-1aab-495a-8f0e-d79393851145"
      },
      "outputs": [],
      "source": [
        "# Keep records with comments in en, it, fr, es, de, pt, ru\n",
        "\n",
        "df_review_reduced = df_review['language']"
      ],
      "id": "0f56336f-1aab-495a-8f0e-d79393851145"
    },
    {
      "cell_type": "code",
      "execution_count": null,
      "metadata": {
        "id": "eOWE3YXnO9oM"
      },
      "outputs": [],
      "source": [
        "df_review_reduced = df_review.loc[df_review['language'].isin(['en','it','fr','es','de','pt','ru'])]"
      ],
      "id": "eOWE3YXnO9oM"
    },
    {
      "cell_type": "code",
      "execution_count": null,
      "metadata": {
        "id": "7ee0e818-9de6-4fcb-8113-2b5dcc612e2e"
      },
      "outputs": [],
      "source": [
        "# Save a reduced sample of comments written in en, it, fr, es, de, pt, ru. Other languages are neglible.\n",
        "\n",
        "df_review_reduced.to_pickle('/content/drive/MyDrive/Colab Notebooks/df_reviews_reduced.pkl')"
      ],
      "id": "7ee0e818-9de6-4fcb-8113-2b5dcc612e2e"
    },
    {
      "cell_type": "code",
      "execution_count": null,
      "metadata": {
        "id": "f89599cb-1231-481e-bddc-ffb644353c50"
      },
      "outputs": [],
      "source": [
        "df_review_reduced = pd.read_pickle('/content/drive/MyDrive/Colab Notebooks/df_reviews_reduced.pkl')"
      ],
      "id": "f89599cb-1231-481e-bddc-ffb644353c50"
    },
    {
      "cell_type": "code",
      "execution_count": null,
      "metadata": {
        "colab": {
          "base_uri": "https://localhost:8080/"
        },
        "id": "87f25349-ccd8-441a-a110-6198e62c2a77",
        "outputId": "d14cfd14-754e-45fa-b21b-6cf246d2860e"
      },
      "outputs": [
        {
          "output_type": "execute_result",
          "data": {
            "text/plain": [
              "en    0.881184\n",
              "fr    0.054118\n",
              "de    0.025758\n",
              "es    0.022761\n",
              "it    0.011436\n",
              "pt    0.004219\n",
              "ru    0.000524\n",
              "Name: language, dtype: float64"
            ]
          },
          "metadata": {},
          "execution_count": 29
        }
      ],
      "source": [
        "df_review_reduced.language.value_counts(normalize=True)"
      ],
      "id": "87f25349-ccd8-441a-a110-6198e62c2a77"
    },
    {
      "cell_type": "code",
      "execution_count": null,
      "metadata": {
        "id": "69975029-f689-4397-acc9-024844935029"
      },
      "outputs": [],
      "source": [
        "# Pick a random sample of reviews (30%) preserving the share of languages\n",
        "\n",
        "sample_df = df_review_reduced.groupby('language').apply(lambda x: x.sample(frac=0.1)).reset_index(level='language', drop=True)"
      ],
      "id": "69975029-f689-4397-acc9-024844935029"
    },
    {
      "cell_type": "code",
      "execution_count": null,
      "metadata": {
        "id": "0aea5a72-10de-4a04-9014-a05fdc33b414"
      },
      "outputs": [],
      "source": [
        "# Translating the  comments other than English to English\n",
        "#\n",
        "def safe_translation(x):\n",
        "    ''' Function that uses Google Translator \n",
        "    to translate comments to English.\n",
        "    If a language is not identified,\n",
        "    it returns empty.\n",
        "    '''\n",
        "    try:\n",
        "        sentence = GoogleTranslator(source='auto', target='en').translate(x)\n",
        "    except:\n",
        "        print(\"Failed: \", x)\n",
        "        sentence = \"\"\n",
        "    return sentence"
      ],
      "id": "0aea5a72-10de-4a04-9014-a05fdc33b414"
    },
    {
      "cell_type": "code",
      "execution_count": null,
      "metadata": {
        "id": "7f219d4a-1655-41b7-ad3f-fa0c540d5b58"
      },
      "outputs": [],
      "source": [
        "# Save updated dataset\n",
        "\n",
        "sample_df.to_pickle('/content/drive/MyDrive/Colab Notebooks/df_reviews_sample.pkl')"
      ],
      "id": "7f219d4a-1655-41b7-ad3f-fa0c540d5b58"
    },
    {
      "cell_type": "code",
      "execution_count": null,
      "metadata": {
        "id": "937b5fff-27c5-4ac8-bd05-d6b9d6c07253"
      },
      "outputs": [],
      "source": [
        "# Check if the dataset correctly uploads\n",
        "\n",
        "df_review_sample = pd.read_pickle('/content/drive/MyDrive/Colab Notebooks/df_reviews_sample.pkl')"
      ],
      "id": "937b5fff-27c5-4ac8-bd05-d6b9d6c07253"
    }
  ],
  "metadata": {
    "colab": {
      "provenance": [],
      "include_colab_link": true
    },
    "kernelspec": {
      "display_name": "Python 3 (ipykernel)",
      "language": "python",
      "name": "python3"
    },
    "language_info": {
      "codemirror_mode": {
        "name": "ipython",
        "version": 3
      },
      "file_extension": ".py",
      "mimetype": "text/x-python",
      "name": "python",
      "nbconvert_exporter": "python",
      "pygments_lexer": "ipython3",
      "version": "3.9.12"
    }
  },
  "nbformat": 4,
  "nbformat_minor": 5
}